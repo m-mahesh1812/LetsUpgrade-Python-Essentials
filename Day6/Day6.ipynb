{
 "cells": [
  {
   "cell_type": "markdown",
   "metadata": {},
   "source": [
    "For this challenge,create a bank account class that has two attributes\n",
    "*ownerName\n",
    "*Balance\n",
    "And two methods\n",
    "*deposit\n",
    "*withdraw\n",
    "As an added requirement,withdrawals may not exceed the available balance.\n",
    "Instantiate your class,make several deposits and withdrawals,and test to make sure the account\n",
    "cant be overdrawn."
   ]
  },
  {
   "cell_type": "code",
   "execution_count": 2,
   "metadata": {},
   "outputs": [
    {
     "name": "stdout",
     "output_type": "stream",
     "text": [
      "Account owner: Jose\n",
      "Account balance: 100\n",
      "Deposit Accepted, your balance is 150\n",
      "Withdrawal Accepted, your balance is 75\n",
      "Funds Unavailable!\n"
     ]
    }
   ],
   "source": [
    "class Account:\n",
    "    \n",
    "    def __init__(self, owner, balance):\n",
    "        self.owner = owner\n",
    "        self.balance = balance\n",
    "    \n",
    "    def __str__(self):\n",
    "        return 'Account owner: {owner}\\nAccount balance: {balance}'.format(owner=self.owner, balance=self.balance)\n",
    "        \n",
    "    def deposit(self, dp_money):\n",
    "        self.balance += dp_money\n",
    "        print('Deposit Accepted, your balance is {balance}'.format(balance=self.balance))\n",
    "    \n",
    "    def withdraw(self, wd_money):\n",
    "        if wd_money > self.balance:\n",
    "            print('Funds Unavailable!')\n",
    "        else:\n",
    "            self.balance -= wd_money\n",
    "            print('Withdrawal Accepted, your balance is {balance}'.format(balance=self.balance))\n",
    "            \n",
    "acct1 = Account('Jose',100)\n",
    "print(acct1)\n",
    "\n",
    "acct1.deposit(50)\n",
    "acct1.withdraw(75)\n",
    "acct1.withdraw(500)"
   ]
  },
  {
   "cell_type": "markdown",
   "metadata": {},
   "source": [
    "2.  For this challenge,create a cone class that has two attributes:\n",
    "*R=Radius\n",
    "*h=Height\n",
    "And two methods:\n",
    "*Volume = Π * r2 = (h/3)\n",
    "*Surface area : base : Π * r2 , side : Π * r * √(r2 + h2)\n",
    "Make only one class with functions,as in where required import Math."
   ]
  },
  {
   "cell_type": "code",
   "execution_count": 17,
   "metadata": {},
   "outputs": [
    {
     "name": "stdout",
     "output_type": "stream",
     "text": [
      "1.0\n",
      "78.53981633974483\n",
      "91.5923781814074\n",
      "None\n"
     ]
    }
   ],
   "source": [
    "import math as m\n",
    "class cone():\n",
    "    def __init__(self, r, h):\n",
    "        self.radius=r\n",
    "        self.height=h\n",
    "    def volume(self,h,r):\n",
    "        return (h/3) or (m.pi *(r*r))\n",
    "    def area(self,h,r):\n",
    "        base =(m.pi *(r*r))\n",
    "        print(base)\n",
    "        side=(m.pi *r*(m.sqrt((r*r)+(h*h))))\n",
    "        print(side)\n",
    "co= cone(3,5)\n",
    "print(co.volume(3,5))\n",
    "print(co.area(3,5))"
   ]
  },
  {
   "cell_type": "code",
   "execution_count": null,
   "metadata": {},
   "outputs": [],
   "source": []
  }
 ],
 "metadata": {
  "kernelspec": {
   "display_name": "Python 3",
   "language": "python",
   "name": "python3"
  },
  "language_info": {
   "codemirror_mode": {
    "name": "ipython",
    "version": 3
   },
   "file_extension": ".py",
   "mimetype": "text/x-python",
   "name": "python",
   "nbconvert_exporter": "python",
   "pygments_lexer": "ipython3",
   "version": "3.8.3"
  }
 },
 "nbformat": 4,
 "nbformat_minor": 4
}
