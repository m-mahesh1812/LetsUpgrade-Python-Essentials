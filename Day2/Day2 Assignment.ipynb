{
 "cells": [
  {
   "cell_type": "markdown",
   "metadata": {},
   "source": [
    "Day 2 Assignments\n"
   ]
  },
  {
   "cell_type": "markdown",
   "metadata": {},
   "source": [
    "1. List and its default functions."
   ]
  },
  {
   "cell_type": "code",
   "execution_count": 26,
   "metadata": {},
   "outputs": [
    {
     "name": "stdout",
     "output_type": "stream",
     "text": [
      "[1, 2, 3, 4, 5, 6, 7, 8, 9, 'Hello', 'hi']\n",
      "[1, 'hola', 2, 3, 4, 5, 6, 7, 8, 9, 'Hello', 'hi']\n",
      "[1, 'hola', 2, 3, 4, 5, 6, 7, 8, 9, 'hi']\n",
      "[1, 'hola', 2, 3, 4, 5, 6, 7, 8, 9]\n",
      "10\n",
      "None\n",
      "67\n",
      "1\n",
      "217\n",
      "[1, 4, 67, 32, 12, 45]\n",
      "[1, 67, 12, 56]\n",
      "[4, 67, 32]\n",
      "None\n"
     ]
    }
   ],
   "source": [
    "l=[1,2,3,4,5,6,7,8,9,\"Hello\"]\n",
    "l.append(\"hi\")\n",
    "print(l)\n",
    "l.insert(1,\"hola\")\n",
    "print(l)\n",
    "l.remove(\"Hello\")\n",
    "print(l)\n",
    "l.pop()\n",
    "print(l)\n",
    "m=len(l)\n",
    "print(m)\n",
    "k=l.reverse()\n",
    "print(k)\n",
    "p=[1,4,67,32,12,45,56]\n",
    "\n",
    "w=max(p)\n",
    "print(w)\n",
    "r=min(p)\n",
    "print(r)\n",
    "s=sum(p)\n",
    "print(s)\n",
    "print(p[:-1])\n",
    "print(p[::2])\n",
    "print(p[1:4])\n",
    "print(p.clear())"
   ]
  },
  {
   "cell_type": "markdown",
   "metadata": {},
   "source": [
    "2.Dictionary and its default functions"
   ]
  },
  {
   "cell_type": "code",
   "execution_count": 12,
   "metadata": {},
   "outputs": [
    {
     "name": "stdout",
     "output_type": "stream",
     "text": [
      "{1: 'hi', 2: 'hello', 3: 'welcome', 4: 'namaste', 5: 'hola', 6: 'hell'}\n",
      "{1: 'hi', 2: 'hello', 3: 'welcome', 4: 'namaste', 5: 'hola', 6: 'hell'}\n",
      "dict_values(['hi', 'hello', 'welcome', 'namaste', 'hola', 'hell'])\n",
      "dict_keys([1, 2, 3, 4, 5, 6])\n",
      "namaste\n",
      "hi\n",
      "{1: 'hi', 2: 'hello', 3: 'welcome', 5: 'hola', 6: 'hell', 7: 'ok'}\n",
      "None\n"
     ]
    }
   ],
   "source": [
    "dic={1:\"hi\",2:\"hello\",3:\"welcome\",4:\"namaste\",5:\"hola\",6:\"hell\"}\n",
    "print(dic)\n",
    "b=dic.copy()\n",
    "print(b)\n",
    "print(dic.values())\n",
    "print(dic.keys())\n",
    "print(dic.pop(4))\n",
    "print(dic.get(1))\n",
    "dic[7]=\"ok\"\n",
    "print(dic)\n",
    "print(dic.clear())\n",
    "del dic\n",
    "\n"
   ]
  },
  {
   "cell_type": "markdown",
   "metadata": {},
   "source": [
    "3.Sets and its default functions."
   ]
  },
  {
   "cell_type": "code",
   "execution_count": 15,
   "metadata": {},
   "outputs": [
    {
     "name": "stdout",
     "output_type": "stream",
     "text": [
      "{1.0, (1, 2, 3), 'Hello'}\n",
      "{1.0, (1, 2, 3), 'Hello'}\n",
      "{1.0, 2, 3, 4, (1, 2, 3), 'Hello'}\n",
      "{2, 3, 4, (1, 2, 3), 'Hello'}\n",
      "2\n",
      "{1, 2, 3, 4, 5, 6}\n",
      "{2, 3, 4, 5}\n",
      "{1, 2, 3, 4, 5, 6}\n",
      "{1, 2, 3, 4, 5, 6}\n",
      "{2, 3, 4, 5}\n",
      "{2, 3, 4, 5}\n",
      "{1}\n",
      "{6}\n",
      "{1, 6}\n"
     ]
    }
   ],
   "source": [
    "my_set = {1.0, \"Hello\", (1, 2, 3)}\n",
    "print(my_set)\n",
    "my_set.add(1.0)\n",
    "print(my_set)\n",
    "my_set.update([2, 3, 4])\n",
    "print(my_set)\n",
    "my_set.discard(1)\n",
    "print(my_set)\n",
    "my_set.remove(3)\n",
    "print(my_set.pop())\n",
    "a={1,2,3,4,5}\n",
    "b={2,3,4,5,6}\n",
    "print(a | b)\n",
    "print(a & b)\n",
    "print(a.union(b))\n",
    "print(b.union(a))\n",
    "print(a.intersection(b))\n",
    "print(b.intersection(a))\n",
    "print(a-b)\n",
    "print(b-a)\n",
    "print( a^b)\n"
   ]
  },
  {
   "cell_type": "markdown",
   "metadata": {},
   "source": [
    "4. Tuple and explore default methods"
   ]
  },
  {
   "cell_type": "code",
   "execution_count": 16,
   "metadata": {},
   "outputs": [
    {
     "name": "stdout",
     "output_type": "stream",
     "text": [
      "('mouse', [8, 4, 6], (1, 2, 3))\n",
      "mouse\n",
      "4\n",
      "(1, 2, 3)\n",
      "('mouse', [8, 4, 6], (1, 2, 3))\n",
      "([8, 4, 6], (1, 2, 3))\n"
     ]
    }
   ],
   "source": [
    "my_tuple = (\"mouse\", [8, 4, 6], (1, 2, 3))\n",
    "print(my_tuple)\n",
    "print(my_tuple[0])   \n",
    "print(my_tuple[1][1])\n",
    "print(my_tuple[-1])\n",
    "print(my_tuple[:])\n",
    "print(my_tuple[1:4])\n",
    "del my_tuple\n"
   ]
  },
  {
   "cell_type": "markdown",
   "metadata": {},
   "source": [
    "5. Strings and explore default methods."
   ]
  },
  {
   "cell_type": "code",
   "execution_count": 25,
   "metadata": {},
   "outputs": [
    {
     "name": "stdout",
     "output_type": "stream",
     "text": [
      "hello world\n",
      "hello hello hello \n",
      "h\n",
      "ello\n",
      "True\n",
      "False\n",
      "['hello', 'world']\n"
     ]
    }
   ],
   "source": [
    "a=\"hello \"\n",
    "b=\"world\"\n",
    "c=3\n",
    "print(a+b)\n",
    "print(a*c)\n",
    "print(a[0])\n",
    "print(a[1:5])\n",
    "print('h' in a)\n",
    "print('o' not in a)\n",
    "h=a+b\n",
    "print(h.split(\" \"))"
   ]
  },
  {
   "cell_type": "code",
   "execution_count": null,
   "metadata": {},
   "outputs": [],
   "source": []
  }
 ],
 "metadata": {
  "kernelspec": {
   "display_name": "Python 3",
   "language": "python",
   "name": "python3"
  },
  "language_info": {
   "codemirror_mode": {
    "name": "ipython",
    "version": 3
   },
   "file_extension": ".py",
   "mimetype": "text/x-python",
   "name": "python",
   "nbconvert_exporter": "python",
   "pygments_lexer": "ipython3",
   "version": "3.8.3"
  }
 },
 "nbformat": 4,
 "nbformat_minor": 4
}
